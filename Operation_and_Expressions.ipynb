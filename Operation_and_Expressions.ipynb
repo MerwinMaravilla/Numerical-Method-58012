{
  "nbformat": 4,
  "nbformat_minor": 0,
  "metadata": {
    "colab": {
      "name": "Operation and Expressions.ipynb",
      "provenance": [],
      "authorship_tag": "ABX9TyO8A1arpyspMMyJcJigippT",
      "include_colab_link": true
    },
    "kernelspec": {
      "name": "python3",
      "display_name": "Python 3"
    },
    "language_info": {
      "name": "python"
    }
  },
  "cells": [
    {
      "cell_type": "markdown",
      "metadata": {
        "id": "view-in-github",
        "colab_type": "text"
      },
      "source": [
        "<a href=\"https://colab.research.google.com/github/MerwinMaravilla/Numerical-Method-58012/blob/main/Operation_and_Expressions.ipynb\" target=\"_parent\"><img src=\"https://colab.research.google.com/assets/colab-badge.svg\" alt=\"Open In Colab\"/></a>"
      ]
    },
    {
      "cell_type": "markdown",
      "source": [
        "#Numerical Method"
      ],
      "metadata": {
        "id": "T-jd4FtpiRdP"
      }
    },
    {
      "cell_type": "code",
      "source": [
        "print (10>9)\n",
        "print (10<9)\n",
        "print (10==9)"
      ],
      "metadata": {
        "id": "U11GQLZ4iRlu"
      },
      "execution_count": null,
      "outputs": []
    },
    {
      "cell_type": "code",
      "source": [
        "a = 10\n",
        "b = 9\n",
        "\n",
        "print (a>b)\n",
        "print (a<b)\n",
        "print (a==b)"
      ],
      "metadata": {
        "id": "i7kAX40PiR0H"
      },
      "execution_count": null,
      "outputs": []
    },
    {
      "cell_type": "markdown",
      "source": [
        "#Bool () Function"
      ],
      "metadata": {
        "id": "ETN9DSlgiR6g"
      }
    },
    {
      "cell_type": "code",
      "source": [
        "print (bool(1))\n",
        "print (bool(0))\n",
        "print (bool(\"Merwin\"))\n",
        "print (bool(None))\n",
        "print (bool(0))"
      ],
      "metadata": {
        "colab": {
          "base_uri": "https://localhost:8080/"
        },
        "id": "G3ew7OG2iSAH",
        "outputId": "7e6d8161-a662-411d-e10c-fbb0e4d5c805"
      },
      "execution_count": null,
      "outputs": [
        {
          "output_type": "stream",
          "name": "stdout",
          "text": [
            "True\n",
            "False\n",
            "True\n",
            "False\n",
            "False\n"
          ]
        }
      ]
    },
    {
      "cell_type": "markdown",
      "source": [
        "#Functions can Return a Bolean"
      ],
      "metadata": {
        "id": "3sicYk_UjIHP"
      }
    },
    {
      "cell_type": "code",
      "source": [
        "def my_Function():\n",
        "  return True\n",
        "\n",
        "  if my_Function():\n",
        "    print (\"Yes\")\n",
        "  else:\n",
        "    print (\"No\")\n",
        "\n",
        "print (my_Function())"
      ],
      "metadata": {
        "id": "4BGtyeOYjQM3"
      },
      "execution_count": null,
      "outputs": []
    },
    {
      "cell_type": "code",
      "source": [
        "print(10>9)\n",
        "\n",
        "a = 6\n",
        "b = 7\n",
        "print(a==b)\n",
        "print(a!=a)"
      ],
      "metadata": {
        "id": "WdeXT_49obg-"
      },
      "execution_count": null,
      "outputs": []
    },
    {
      "cell_type": "markdown",
      "source": [
        "#Python Operators"
      ],
      "metadata": {
        "id": "CKTO6Bkiokvo"
      }
    },
    {
      "cell_type": "code",
      "source": [
        "print (10+5)\n",
        "print (10-5)\n",
        "print (10*5)\n",
        "print (10/5)\n",
        "print (10%5)\n",
        "print (10//5)\n",
        "print (10**5)"
      ],
      "metadata": {
        "id": "WVKAQ-4eoqEX"
      },
      "execution_count": null,
      "outputs": []
    },
    {
      "cell_type": "code",
      "source": [
        "print(2+5)\n",
        "print(2-5)\n",
        "print(2*5)\n",
        "print(5/2)\n",
        "print(5//2)\n",
        "print(5**2)"
      ],
      "metadata": {
        "id": "pNiD0eOSoxM-"
      },
      "execution_count": null,
      "outputs": []
    },
    {
      "cell_type": "markdown",
      "source": [
        "#Application 1"
      ],
      "metadata": {
        "id": "QlIQOBB7GlAP"
      }
    },
    {
      "cell_type": "code",
      "source": [
        "[]"
      ],
      "metadata": {
        "id": "NRttLtaJGoz9"
      },
      "execution_count": null,
      "outputs": []
    },
    {
      "cell_type": "markdown",
      "source": [
        "#Bitwise Operators"
      ],
      "metadata": {
        "id": "ghg2LMwpo5UR"
      }
    },
    {
      "cell_type": "code",
      "source": [
        "a = 60\n",
        "b = 13\n",
        "print(a&b)\n",
        "print(a|b)\n",
        "print(a^b)"
      ],
      "metadata": {
        "id": "lP044GNPo_7R"
      },
      "execution_count": null,
      "outputs": []
    },
    {
      "cell_type": "markdown",
      "source": [
        "#Assignment Operators"
      ],
      "metadata": {
        "id": "P7kn6c_BpERB"
      }
    },
    {
      "cell_type": "code",
      "source": [
        "a += 3 #Same as a = a + 3\n",
        "print(a)"
      ],
      "metadata": {
        "id": "azrS2pgZpEaQ"
      },
      "execution_count": null,
      "outputs": []
    },
    {
      "cell_type": "markdown",
      "source": [
        "#Logical Operators"
      ],
      "metadata": {
        "id": "noL38e03pEio"
      }
    },
    {
      "cell_type": "code",
      "source": [
        "x = True\n",
        "y = False\n",
        "\n",
        "print(x and y)\n",
        "print(x or y)\n",
        "not(print(x and y))"
      ],
      "metadata": {
        "id": "ZZNubCqapEsw"
      },
      "execution_count": null,
      "outputs": []
    },
    {
      "cell_type": "markdown",
      "source": [
        "#Identity Operators"
      ],
      "metadata": {
        "id": "btmFu4kepW5C"
      }
    },
    {
      "cell_type": "code",
      "source": [
        "print(x is y)\n",
        "print(x is x)\n",
        "\n",
        "print(x is not y)"
      ],
      "metadata": {
        "id": "ILNuNJ4npXIR"
      },
      "execution_count": null,
      "outputs": []
    }
  ]
}